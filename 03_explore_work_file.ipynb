{
 "cells": [
  {
   "cell_type": "markdown",
   "id": "0342336f",
   "metadata": {},
   "source": [
    "# EDA\n",
    "Here I will explore relationships between the different features in my data.\n",
    "\n",
    "**imports**"
   ]
  },
  {
   "cell_type": "code",
   "execution_count": 1,
   "id": "9638294f",
   "metadata": {},
   "outputs": [],
   "source": [
    "import numpy as np\n",
    "import pandas as pd\n",
    "import matplotlib.pyplot as plt\n",
    "import seaborn as sns\n",
    "import itertools\n",
    "import warnings\n",
    "import os\n",
    "import sys\n",
    "\n",
    "sys.path.append(\"./util_\")\n",
    "import prepare_\n",
    "import explore_\n",
    "\n",
    "# set a default them for all my visuals\n",
    "sns.set_theme(style=\"whitegrid\")"
   ]
  },
  {
   "cell_type": "markdown",
   "id": "d5a3c9c9",
   "metadata": {},
   "source": [
    "**get data**"
   ]
  },
  {
   "cell_type": "code",
   "execution_count": 2,
   "id": "c9c20cf4",
   "metadata": {},
   "outputs": [
    {
     "name": "stdout",
     "output_type": "stream",
     "text": [
      "Original dataframe size: (2004974, 30)\n",
      "New dataframe size: (2004974, 24)\n"
     ]
    }
   ],
   "source": [
    "# load vehicle data\n",
    "vehicle = prepare_.get_vehicle_data_no_dummies()"
   ]
  },
  {
   "cell_type": "markdown",
   "id": "d33a14b9",
   "metadata": {},
   "source": [
    "**split data**"
   ]
  },
  {
   "cell_type": "code",
   "execution_count": 3,
   "id": "92aa12a2",
   "metadata": {},
   "outputs": [
    {
     "data": {
      "text/plain": [
       "((1202984, 24), (400995, 24), (400995, 24))"
      ]
     },
     "execution_count": 3,
     "metadata": {},
     "output_type": "execute_result"
    }
   ],
   "source": [
    "train, validate, test = prepare_.split_data_(vehicle, test_size=0.2, stratify_col=\"fatality\", random_state=95 )\n",
    "(train.shape, validate.shape, test.shape)"
   ]
  },
  {
   "cell_type": "code",
   "execution_count": 4,
   "id": "f8ca7714",
   "metadata": {},
   "outputs": [
    {
     "data": {
      "text/html": [
       "<div>\n",
       "<style scoped>\n",
       "    .dataframe tbody tr th:only-of-type {\n",
       "        vertical-align: middle;\n",
       "    }\n",
       "\n",
       "    .dataframe tbody tr th {\n",
       "        vertical-align: top;\n",
       "    }\n",
       "\n",
       "    .dataframe thead th {\n",
       "        text-align: right;\n",
       "    }\n",
       "</style>\n",
       "<table border=\"1\" class=\"dataframe\">\n",
       "  <thead>\n",
       "    <tr style=\"text-align: right;\">\n",
       "      <th></th>\n",
       "      <th>crash_date</th>\n",
       "      <th>crash_time</th>\n",
       "      <th>borough</th>\n",
       "      <th>zip_code</th>\n",
       "      <th>latitude</th>\n",
       "      <th>longitude</th>\n",
       "      <th>on_street_name</th>\n",
       "      <th>cross_street_name</th>\n",
       "      <th>off_street_name</th>\n",
       "      <th>number_of_persons_injured</th>\n",
       "      <th>...</th>\n",
       "      <th>contributing_factor_vehicle_2</th>\n",
       "      <th>contributing_factor_vehicle_3</th>\n",
       "      <th>contributing_factor_vehicle_4</th>\n",
       "      <th>contributing_factor_vehicle_5</th>\n",
       "      <th>vehicle_type_code_1</th>\n",
       "      <th>vehicle_type_code_2</th>\n",
       "      <th>vehicle_type_code_3</th>\n",
       "      <th>vehicle_type_code_4</th>\n",
       "      <th>vehicle_type_code_5</th>\n",
       "      <th>fatality</th>\n",
       "    </tr>\n",
       "  </thead>\n",
       "  <tbody>\n",
       "    <tr>\n",
       "      <th>728700</th>\n",
       "      <td>2018-01-13</td>\n",
       "      <td>2023-07-08 17:05:00</td>\n",
       "      <td>QUEENS</td>\n",
       "      <td>11422</td>\n",
       "      <td>40.656616</td>\n",
       "      <td>-73.744965</td>\n",
       "      <td>UNKNOWN</td>\n",
       "      <td>UNKNOWN</td>\n",
       "      <td>147-26    BROOKVILLE BOULEVARD</td>\n",
       "      <td>0</td>\n",
       "      <td>...</td>\n",
       "      <td>Uncertain or Unspecified Factors</td>\n",
       "      <td>Uncertain or Unspecified Factors</td>\n",
       "      <td>Uncertain or Unspecified Factors</td>\n",
       "      <td>Uncertain or Unspecified Factors</td>\n",
       "      <td>SEDAN</td>\n",
       "      <td>SEDAN</td>\n",
       "      <td>UNKNOWN</td>\n",
       "      <td>UNKNOWN</td>\n",
       "      <td>UNKNOWN</td>\n",
       "      <td>0</td>\n",
       "    </tr>\n",
       "    <tr>\n",
       "      <th>470214</th>\n",
       "      <td>2019-02-27</td>\n",
       "      <td>2023-07-08 17:50:00</td>\n",
       "      <td>QUEENS</td>\n",
       "      <td>11417</td>\n",
       "      <td>40.672783</td>\n",
       "      <td>-73.843250</td>\n",
       "      <td>UNKNOWN</td>\n",
       "      <td>UNKNOWN</td>\n",
       "      <td>135-45    CROSS BAY BOULEVARD</td>\n",
       "      <td>0</td>\n",
       "      <td>...</td>\n",
       "      <td>Uncertain or Unspecified Factors</td>\n",
       "      <td>Uncertain or Unspecified Factors</td>\n",
       "      <td>Uncertain or Unspecified Factors</td>\n",
       "      <td>Uncertain or Unspecified Factors</td>\n",
       "      <td>STATION_WAGON</td>\n",
       "      <td>STATION_WAGON</td>\n",
       "      <td>UNKNOWN</td>\n",
       "      <td>UNKNOWN</td>\n",
       "      <td>UNKNOWN</td>\n",
       "      <td>0</td>\n",
       "    </tr>\n",
       "    <tr>\n",
       "      <th>1356648</th>\n",
       "      <td>2015-03-31</td>\n",
       "      <td>2023-07-08 03:30:00</td>\n",
       "      <td>BROOKLYN</td>\n",
       "      <td>11211</td>\n",
       "      <td>40.708426</td>\n",
       "      <td>-73.957904</td>\n",
       "      <td>BROADWAY</td>\n",
       "      <td>MARCY AVENUE</td>\n",
       "      <td>UNKNOWN</td>\n",
       "      <td>0</td>\n",
       "      <td>...</td>\n",
       "      <td>Uncertain or Unspecified Factors</td>\n",
       "      <td>Uncertain or Unspecified Factors</td>\n",
       "      <td>Uncertain or Unspecified Factors</td>\n",
       "      <td>Uncertain or Unspecified Factors</td>\n",
       "      <td>LIVERY_VEHICLE</td>\n",
       "      <td>PASSENGER_VEHICLE</td>\n",
       "      <td>UNKNOWN</td>\n",
       "      <td>UNKNOWN</td>\n",
       "      <td>UNKNOWN</td>\n",
       "      <td>0</td>\n",
       "    </tr>\n",
       "    <tr>\n",
       "      <th>1903801</th>\n",
       "      <td>2012-08-08</td>\n",
       "      <td>2023-07-08 18:30:00</td>\n",
       "      <td>MANHATTAN</td>\n",
       "      <td>10007</td>\n",
       "      <td>40.713135</td>\n",
       "      <td>-74.004058</td>\n",
       "      <td>CENTRE STREET</td>\n",
       "      <td>CHAMBERS STREET</td>\n",
       "      <td>UNKNOWN</td>\n",
       "      <td>0</td>\n",
       "      <td>...</td>\n",
       "      <td>Driver Fatigue and Inattention</td>\n",
       "      <td>Uncertain or Unspecified Factors</td>\n",
       "      <td>Uncertain or Unspecified Factors</td>\n",
       "      <td>Uncertain or Unspecified Factors</td>\n",
       "      <td>PICKUP_TRUCK</td>\n",
       "      <td>PASSENGER_VEHICLE</td>\n",
       "      <td>UNKNOWN</td>\n",
       "      <td>UNKNOWN</td>\n",
       "      <td>UNKNOWN</td>\n",
       "      <td>0</td>\n",
       "    </tr>\n",
       "    <tr>\n",
       "      <th>1731955</th>\n",
       "      <td>2013-06-13</td>\n",
       "      <td>2023-07-08 12:10:00</td>\n",
       "      <td>BROOKLYN</td>\n",
       "      <td>11212</td>\n",
       "      <td>40.671924</td>\n",
       "      <td>-73.904516</td>\n",
       "      <td>GLENMORE AVENUE</td>\n",
       "      <td>POWELL STREET</td>\n",
       "      <td>UNKNOWN</td>\n",
       "      <td>0</td>\n",
       "      <td>...</td>\n",
       "      <td>Uncertain or Unspecified Factors</td>\n",
       "      <td>Uncertain or Unspecified Factors</td>\n",
       "      <td>Uncertain or Unspecified Factors</td>\n",
       "      <td>Uncertain or Unspecified Factors</td>\n",
       "      <td>PASSENGER_VEHICLE</td>\n",
       "      <td>PASSENGER_VEHICLE</td>\n",
       "      <td>UNKNOWN</td>\n",
       "      <td>UNKNOWN</td>\n",
       "      <td>UNKNOWN</td>\n",
       "      <td>0</td>\n",
       "    </tr>\n",
       "  </tbody>\n",
       "</table>\n",
       "<p>5 rows × 24 columns</p>\n",
       "</div>"
      ],
      "text/plain": [
       "        crash_date          crash_time    borough  zip_code   latitude  \\\n",
       "728700  2018-01-13 2023-07-08 17:05:00     QUEENS     11422  40.656616   \n",
       "470214  2019-02-27 2023-07-08 17:50:00     QUEENS     11417  40.672783   \n",
       "1356648 2015-03-31 2023-07-08 03:30:00   BROOKLYN     11211  40.708426   \n",
       "1903801 2012-08-08 2023-07-08 18:30:00  MANHATTAN     10007  40.713135   \n",
       "1731955 2013-06-13 2023-07-08 12:10:00   BROOKLYN     11212  40.671924   \n",
       "\n",
       "         longitude                    on_street_name  \\\n",
       "728700  -73.744965                           UNKNOWN   \n",
       "470214  -73.843250                           UNKNOWN   \n",
       "1356648 -73.957904  BROADWAY                           \n",
       "1903801 -74.004058  CENTRE STREET                      \n",
       "1731955 -73.904516  GLENMORE AVENUE                    \n",
       "\n",
       "                        cross_street_name  \\\n",
       "728700                            UNKNOWN   \n",
       "470214                            UNKNOWN   \n",
       "1356648  MARCY AVENUE                       \n",
       "1903801  CHAMBERS STREET                    \n",
       "1731955  POWELL STREET                      \n",
       "\n",
       "                                  off_street_name  number_of_persons_injured  \\\n",
       "728700   147-26    BROOKVILLE BOULEVARD                                    0   \n",
       "470214   135-45    CROSS BAY BOULEVARD                                     0   \n",
       "1356648                                   UNKNOWN                          0   \n",
       "1903801                                   UNKNOWN                          0   \n",
       "1731955                                   UNKNOWN                          0   \n",
       "\n",
       "         ...     contributing_factor_vehicle_2  \\\n",
       "728700   ...  Uncertain or Unspecified Factors   \n",
       "470214   ...  Uncertain or Unspecified Factors   \n",
       "1356648  ...  Uncertain or Unspecified Factors   \n",
       "1903801  ...    Driver Fatigue and Inattention   \n",
       "1731955  ...  Uncertain or Unspecified Factors   \n",
       "\n",
       "            contributing_factor_vehicle_3     contributing_factor_vehicle_4  \\\n",
       "728700   Uncertain or Unspecified Factors  Uncertain or Unspecified Factors   \n",
       "470214   Uncertain or Unspecified Factors  Uncertain or Unspecified Factors   \n",
       "1356648  Uncertain or Unspecified Factors  Uncertain or Unspecified Factors   \n",
       "1903801  Uncertain or Unspecified Factors  Uncertain or Unspecified Factors   \n",
       "1731955  Uncertain or Unspecified Factors  Uncertain or Unspecified Factors   \n",
       "\n",
       "            contributing_factor_vehicle_5 vehicle_type_code_1  \\\n",
       "728700   Uncertain or Unspecified Factors               SEDAN   \n",
       "470214   Uncertain or Unspecified Factors       STATION_WAGON   \n",
       "1356648  Uncertain or Unspecified Factors      LIVERY_VEHICLE   \n",
       "1903801  Uncertain or Unspecified Factors        PICKUP_TRUCK   \n",
       "1731955  Uncertain or Unspecified Factors   PASSENGER_VEHICLE   \n",
       "\n",
       "        vehicle_type_code_2 vehicle_type_code_3 vehicle_type_code_4  \\\n",
       "728700                SEDAN             UNKNOWN             UNKNOWN   \n",
       "470214        STATION_WAGON             UNKNOWN             UNKNOWN   \n",
       "1356648   PASSENGER_VEHICLE             UNKNOWN             UNKNOWN   \n",
       "1903801   PASSENGER_VEHICLE             UNKNOWN             UNKNOWN   \n",
       "1731955   PASSENGER_VEHICLE             UNKNOWN             UNKNOWN   \n",
       "\n",
       "        vehicle_type_code_5 fatality  \n",
       "728700              UNKNOWN        0  \n",
       "470214              UNKNOWN        0  \n",
       "1356648             UNKNOWN        0  \n",
       "1903801             UNKNOWN        0  \n",
       "1731955             UNKNOWN        0  \n",
       "\n",
       "[5 rows x 24 columns]"
      ]
     },
     "execution_count": 4,
     "metadata": {},
     "output_type": "execute_result"
    }
   ],
   "source": [
    "train.head()"
   ]
  },
  {
   "cell_type": "markdown",
   "id": "7c3dd407",
   "metadata": {},
   "source": [
    "## Univariate Stats"
   ]
  },
  {
   "cell_type": "code",
   "execution_count": 5,
   "id": "1739ea5b",
   "metadata": {},
   "outputs": [],
   "source": [
    "# separeate discrete from continuous variables\n",
    "continuous_col = []\n",
    "categorical_col = []\n",
    "\n",
    "\n",
    "# separate variables\n",
    "for col in train.columns:\n",
    "    # count number of unique valus in the column\n",
    "    len_of_uniq = len(train[col].unique())\n",
    "    \n",
    "    # also checking for only object data types\n",
    "    if (len_of_uniq <= 20) and (train[col].dtype == \"O\"):\n",
    "        categorical_col.append(col)\n",
    "    else:\n",
    "        continuous_col.append(col)"
   ]
  },
  {
   "cell_type": "markdown",
   "id": "1a066a6b",
   "metadata": {},
   "source": [
    "Categorical variables\n",
    "\n",
    "Here I will use pie chart, and and bar plots to explore my categorical variables to help me find relationships."
   ]
  },
  {
   "cell_type": "code",
   "execution_count": 6,
   "id": "7669a988",
   "metadata": {
    "scrolled": true
   },
   "outputs": [
    {
     "name": "stdout",
     "output_type": "stream",
     "text": [
      "BOROUGH\n",
      "count     1202984\n",
      "unique          6\n",
      "top       UNKNOWN\n",
      "freq       374445\n",
      "Name: borough, dtype: object\n"
     ]
    },
    {
     "ename": "TypeError",
     "evalue": "save_visuals() missing 1 required positional argument: 'fig'",
     "output_type": "error",
     "traceback": [
      "\u001b[0;31m---------------------------------------------------------------------------\u001b[0m",
      "\u001b[0;31mTypeError\u001b[0m                                 Traceback (most recent call last)",
      "Cell \u001b[0;32mIn[6], line 19\u001b[0m\n\u001b[1;32m     15\u001b[0m sns\u001b[38;5;241m.\u001b[39mboxplot(train[ele]\u001b[38;5;241m.\u001b[39mvalue_counts(), ax\u001b[38;5;241m=\u001b[39max[\u001b[38;5;241m1\u001b[39m])\n\u001b[1;32m     17\u001b[0m plt\u001b[38;5;241m.\u001b[39mtight_layout()\n\u001b[0;32m---> 19\u001b[0m \u001b[43mexplore_\u001b[49m\u001b[38;5;241;43m.\u001b[39;49m\u001b[43msave_visuals\u001b[49m\u001b[43m(\u001b[49m\u001b[43m)\u001b[49m\n\u001b[1;32m     20\u001b[0m plt\u001b[38;5;241m.\u001b[39mshow()\n",
      "\u001b[0;31mTypeError\u001b[0m: save_visuals() missing 1 required positional argument: 'fig'"
     ]
    },
    {
     "data": {
      "image/png": "[encoded data removed]",
      "text/plain": [
       "<Figure size 1000x500 with 2 Axes>"
      ]
     },
     "metadata": {},
     "output_type": "display_data"
    }
   ],
   "source": [
    "# Specify the path to the directory where you want to save the figure\n",
    "directory_path = './explore_viz/01_univariate_viz/'\n",
    "\n",
    "# create visuals for each continuous varable\n",
    "for ele in categorical_col:\n",
    "    print(ele.upper())\n",
    "    print(train[ele].describe())\n",
    "    \n",
    "    fig, ax = plt.subplots(nrows=1, ncols=2, figsize=(10,5))\n",
    "    \n",
    "    # first plot\n",
    "    sns.countplot(data=train, x = ele, ax=ax[0])\n",
    "    \n",
    "    # secondplot\n",
    "    sns.boxplot(train[ele].value_counts(), ax=ax[1])\n",
    "    \n",
    "    plt.tight_layout()\n",
    "    \n",
    "    explore_.save_visuals()\n",
    "    plt.show()"
   ]
  },
  {
   "cell_type": "code",
   "execution_count": null,
   "id": "e4dac970",
   "metadata": {},
   "outputs": [],
   "source": [
    "vehicle_type_code = pd.DataFrame(train.vehicle_type_code_1.value_counts())\n",
    "vehicle_type_code\n",
    "# vehicle_type_code[[\"count\"]] = vehicle_type_code"
   ]
  },
  {
   "cell_type": "markdown",
   "id": "8a49f932",
   "metadata": {},
   "source": [
    "**Continuous variables**\n",
    "\n",
    "Here I will use hitograms, and kernel density plot to my continious variables with added discriptive statistics to help me identify\n",
    "\n",
    "- The shape of my distributon, peaks and modes, outliets and imbalance in my data."
   ]
  },
  {
   "cell_type": "code",
   "execution_count": null,
   "id": "6d662c37",
   "metadata": {},
   "outputs": [],
   "source": [
    "# create visuals for each continuous varable\n",
    "for ele in continuous_col:\n",
    "    print(ele.upper())\n",
    "    print(train[ele].describe())\n",
    "    \n",
    "    fig, ax = plt.subplots(nrows=1, ncols=2, figsize=(10,5))\n",
    "    \n",
    "    # first plot\n",
    "    sns.histplot(train[ele], ax=ax[0])\n",
    "    \n",
    "    # second plot\n",
    "    sns.kdeplot(train[ele], ax=ax[1])\n",
    "    \n",
    "    plt.tight_layout()\n",
    "    explore_.save_visuals(fig, viz_name= ele, 1)\n",
    "    plt.show()"
   ]
  },
  {
   "cell_type": "code",
   "execution_count": null,
   "id": "46dc5a81",
   "metadata": {},
   "outputs": [],
   "source": []
  },
  {
   "cell_type": "code",
   "execution_count": null,
   "id": "827f5835",
   "metadata": {},
   "outputs": [],
   "source": []
  },
  {
   "cell_type": "code",
   "execution_count": null,
   "id": "e4f79b04",
   "metadata": {},
   "outputs": [],
   "source": []
  },
  {
   "cell_type": "markdown",
   "id": "3edba5f4",
   "metadata": {},
   "source": [
    "## Bivariate Stats"
   ]
  },
  {
   "cell_type": "code",
   "execution_count": null,
   "id": "01be16ab",
   "metadata": {},
   "outputs": [],
   "source": []
  },
  {
   "cell_type": "code",
   "execution_count": null,
   "id": "cf737d1e",
   "metadata": {},
   "outputs": [],
   "source": []
  },
  {
   "cell_type": "code",
   "execution_count": null,
   "id": "29e60585",
   "metadata": {},
   "outputs": [],
   "source": []
  },
  {
   "cell_type": "code",
   "execution_count": null,
   "id": "c0c0507b",
   "metadata": {},
   "outputs": [],
   "source": []
  },
  {
   "cell_type": "markdown",
   "id": "a59b433e",
   "metadata": {},
   "source": [
    "# Multivariate Stats"
   ]
  },
  {
   "cell_type": "code",
   "execution_count": null,
   "id": "c1148f8c",
   "metadata": {},
   "outputs": [],
   "source": []
  },
  {
   "cell_type": "code",
   "execution_count": null,
   "id": "a9e30771",
   "metadata": {},
   "outputs": [],
   "source": []
  }
 ],
 "metadata": {
  "kernelspec": {
   "display_name": "Python 3 (ipykernel)",
   "language": "python",
   "name": "python3"
  },
  "language_info": {
   "codemirror_mode": {
    "name": "ipython",
    "version": 3
   },
   "file_extension": ".py",
   "mimetype": "text/x-python",
   "name": "python",
   "nbconvert_exporter": "python",
   "pygments_lexer": "ipython3",
   "version": "3.10.9"
  }
 },
 "nbformat": 4,
 "nbformat_minor": 5
}
