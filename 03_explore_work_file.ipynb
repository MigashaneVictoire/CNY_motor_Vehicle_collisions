{
 "cells": [
  {
   "cell_type": "markdown",
   "id": "0342336f",
   "metadata": {},
   "source": [
    "# EDA\n",
    "Here I will explore relationships between the different features in my data.\n",
    "\n",
    "**imports**"
   ]
  },
  {
   "cell_type": "code",
   "execution_count": 1,
   "id": "9638294f",
   "metadata": {},
   "outputs": [],
   "source": [
    "# data manipulation\n",
    "import pandas as pd\n",
    "import numpy as np\n",
    "\n",
    "# data visualization\n",
    "import matplotlib.pyplot as plt\n",
    "import seaborn as sns\n",
    "\n",
    "# data separation/transformation\n",
    "# from sklearn.model_selection import train_test_split\n",
    "# from sklearn.preprocessing import MinMaxScaler\n",
    "\n",
    "# system manipulation\n",
    "import itertools\n",
    "import os\n",
    "import sys\n",
    "sys.path.append(\"./util_\")\n",
    "import prepare_\n",
    "import explore_\n",
    "\n",
    "# other\n",
    "import env\n",
    "import warnings\n",
    "warnings.filterwarnings(\"ignore\")\n",
    "\n",
    "# set the random seed\n",
    "np.random.seed(95)\n",
    "\n",
    "\n",
    "# set a default them for all my visuals\n",
    "sns.set_theme(style=\"whitegrid\")"
   ]
  },
  {
   "cell_type": "markdown",
   "id": "d5a3c9c9",
   "metadata": {},
   "source": [
    "**get data**"
   ]
  },
  {
   "cell_type": "code",
   "execution_count": null,
   "id": "c9c20cf4",
   "metadata": {},
   "outputs": [],
   "source": []
  },
  {
   "cell_type": "markdown",
   "id": "d33a14b9",
   "metadata": {},
   "source": [
    "**split data**"
   ]
  },
  {
   "cell_type": "code",
   "execution_count": null,
   "id": "92aa12a2",
   "metadata": {},
   "outputs": [],
   "source": []
  },
  {
   "cell_type": "markdown",
   "id": "1b600cd3",
   "metadata": {},
   "source": [
    "### What is the distribution of the target variable?\n",
    "\n",
    "- Calculate the frequency or proportion of the targe instances in the 'target' column."
   ]
  },
  {
   "cell_type": "code",
   "execution_count": null,
   "id": "75748e39",
   "metadata": {},
   "outputs": [],
   "source": []
  },
  {
   "cell_type": "markdown",
   "id": "d433e561",
   "metadata": {},
   "source": [
    "### What is the distribution of each feature in the dataset?\n",
    "\n",
    "- Plot histograms for numerical variables and count plots for categorical variables to visualize their distributions."
   ]
  },
  {
   "cell_type": "code",
   "execution_count": null,
   "id": "a1d67ec4",
   "metadata": {},
   "outputs": [],
   "source": []
  },
  {
   "cell_type": "markdown",
   "id": "9156f18c",
   "metadata": {},
   "source": [
    "### Are there any missing values in the dataset? If so, what is the extent of missingness?\n",
    "\n",
    "- Check each column for missing values and calculate the percentage of missing values in each column."
   ]
  },
  {
   "cell_type": "code",
   "execution_count": null,
   "id": "2a7afd0c",
   "metadata": {},
   "outputs": [],
   "source": []
  },
  {
   "cell_type": "markdown",
   "id": "3d922f42",
   "metadata": {},
   "source": [
    "### Are there any outliers in the numerical variables?\n",
    "\n",
    "- Use box plots or summary statistics to identify potential outliers in the numerical columns."
   ]
  },
  {
   "cell_type": "code",
   "execution_count": null,
   "id": "829e2411",
   "metadata": {},
   "outputs": [],
   "source": []
  },
  {
   "cell_type": "markdown",
   "id": "b1e6e317",
   "metadata": {},
   "source": [
    "### Are there any significant differences in the distribution of features between the targets unique groups?\n",
    "\n",
    "- look at how the diffent target groups differ in means and dirstributons."
   ]
  },
  {
   "cell_type": "code",
   "execution_count": null,
   "id": "5aa78044",
   "metadata": {},
   "outputs": [],
   "source": []
  },
  {
   "cell_type": "markdown",
   "id": "e8d8bc0e",
   "metadata": {},
   "source": [
    "### Are there any strong correlations between features?\n",
    "\n",
    "- Create a correlation matrix or heatmap to examine the correlations between numerical features."
   ]
  },
  {
   "cell_type": "code",
   "execution_count": null,
   "id": "4108d0c3",
   "metadata": {},
   "outputs": [],
   "source": []
  },
  {
   "cell_type": "markdown",
   "id": "7d4d9a4a",
   "metadata": {},
   "source": [
    "### Visual Take Aways\n",
    "\n",
    "**Temporal Analysis**\n",
    "\n",
    "Are there any patterns or trends in the number of accidents and fatalities over time (e.g., by month, day of the week, or hour of the day)?\n",
    "\n",
    "    - \n",
    "    \n",
    "Is there any seasonality in the occurrence of accidents and fatalities?\n",
    "\n",
    "    - \n",
    "    \n",
    "**Spatial Analysis**\n",
    "\n",
    "Are there specific boroughs or areas with a higher frequency of accidents or fatalities?\n",
    "\n",
    "    - \n",
    "    \n",
    "Do certain locations or intersections have a higher occurrence of accidents resulting in fatalities?\n",
    "\n",
    "    - \n",
    "\n",
    "**Multivariate Analysis**\n",
    "\n",
    "Can you identify interactions or combined effects of multiple variables on fatality?\n",
    "Example, you can explore how the number of persons injured varies with different contributing factors and vehicle types.\n",
    "\n",
    "    - \n",
    "    \n",
    "What are the summary statistics (mean, median, standard deviation, etc.) for the numerical variables, and how do they differ for fatality vs. non-fatality instances?\n",
    "\n",
    "    - \n",
    "\n",
    "What are the most common categories and their frequencies for categorical variables?\n",
    "\n",
    "    - "
   ]
  },
  {
   "cell_type": "code",
   "execution_count": null,
   "id": "a15fd477",
   "metadata": {},
   "outputs": [],
   "source": []
  }
 ],
 "metadata": {
  "kernelspec": {
   "display_name": "Python 3 (ipykernel)",
   "language": "python",
   "name": "python3"
  },
  "language_info": {
   "codemirror_mode": {
    "name": "ipython",
    "version": 3
   },
   "file_extension": ".py",
   "mimetype": "text/x-python",
   "name": "python",
   "nbconvert_exporter": "python",
   "pygments_lexer": "ipython3",
   "version": "3.10.9"
  }
 },
 "nbformat": 4,
 "nbformat_minor": 5
}
